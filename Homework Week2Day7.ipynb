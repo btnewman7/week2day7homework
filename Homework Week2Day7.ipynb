{
 "cells": [
  {
   "cell_type": "code",
   "execution_count": null,
   "metadata": {
    "scrolled": true
   },
   "outputs": [
    {
     "name": "stdout",
     "output_type": "stream",
     "text": [
      "Type 'show' to show all of you shopping cart.\n",
      "\n",
      "Type 'quit' to stop shopping. Type 'add' or 'delete' to add or delete items? add\n"
     ]
    }
   ],
   "source": [
    "#shopping list, my answer\n",
    "\n",
    "shopping_list = []\n",
    "\n",
    "done = False\n",
    "\n",
    "while not done:\n",
    "    print(\"\"\"Type 'show' to show all of you shopping cart.\n",
    "\"\"\")\n",
    "    ask_for_input = input(\"Type 'quit' to stop shopping. Type 'add' or 'delete' to add or delete items? \")\n",
    "    \n",
    "    if ask_for_input == 'quit'.lower():\n",
    "        for i in shopping_list:\n",
    "            print(i)\n",
    "        done = True\n",
    "        break\n",
    "    elif ask_for_input == 'show':\n",
    "        for i in shopping_list:\n",
    "            print(i)\n",
    "    elif ask_for_input == 'add'.lower():\n",
    "        add_input = input('What would you like to add? ')\n",
    "        item = {'Item': add_input}\n",
    "        shopping_list.append(item)\n",
    "    elif ask_for_input == 'delete'.lower():            \n",
    "        del_input = input('What would you like to delete? ')\n",
    "        item = {'Item': del_input}\n",
    "        shopping_list.remove(item)\n",
    "    else:\n",
    "        pass"
   ]
  },
  {
   "cell_type": "code",
   "execution_count": null,
   "metadata": {},
   "outputs": [],
   "source": []
  },
  {
   "cell_type": "code",
   "execution_count": null,
   "metadata": {},
   "outputs": [],
   "source": []
  },
  {
   "cell_type": "code",
   "execution_count": null,
   "metadata": {},
   "outputs": [],
   "source": [
    "display_cart = [{'name': 'mango', 'price': 2.98}]"
   ]
  },
  {
   "cell_type": "code",
   "execution_count": 4,
   "metadata": {},
   "outputs": [
    {
     "ename": "SyntaxError",
     "evalue": "invalid syntax (<ipython-input-4-9e59368f16e5>, line 9)",
     "output_type": "error",
     "traceback": [
      "\u001b[0;36m  File \u001b[0;32m\"<ipython-input-4-9e59368f16e5>\"\u001b[0;36m, line \u001b[0;32m9\u001b[0m\n\u001b[0;31m    if p['name']== item_dict['name']\u001b[0m\n\u001b[0m                                    ^\u001b[0m\n\u001b[0;31mSyntaxError\u001b[0m\u001b[0;31m:\u001b[0m invalid syntax\n"
     ]
    }
   ],
   "source": [
    "#shopping cart Derek's Answer\n",
    "from IPython.display import clear_output\n",
    "\n",
    "def add_to_cart(cart, cart_item):\n",
    "    cart_list.append(item)\n",
    "\n",
    "def remove_item(cart_list, item_dict):\n",
    "    for p in cart_list:\n",
    "        if p['name']== item_dict['name']:\n",
    "            item_dict\n",
    "\n",
    "def clear_items(a_list):\n",
    "    a_list.clear()\n",
    "\n",
    "def show_instructions():\n",
    "    print(\"\"\"Instruction keys, add, remove, clear, show, quit\n",
    "\"\"\")\n",
    "\n",
    "def show_items (a_list):\n",
    "    total = 0\n",
    "    print('='*40)\n",
    "    if not a_list:\n",
    "        print('You have no items in your list')\n",
    "    else:\n",
    "        display_cart = []\n",
    "        for product in a_list:\n",
    "            if product['name'] not in [i['name'] for i in display_cart]:\n",
    "                display_cart.append({\n",
    "                    'name': product['name'],\n",
    "                    'price': product['price']\n",
    "                })\n",
    "            else:\n",
    "                for i in display_cart:\n",
    "                    if i['name'] == product['name']:\n",
    "                        i['price'] += product['price']\n",
    "        for i in range(len(display_cart)):\n",
    "            print(f\"{i+1}: {display_cart[i]['name']} []\")        \n",
    "    print('='*40)\n",
    "    \n",
    "    total += float(sum([p['price'] for p in a_list]))\n",
    "    \n",
    "    print(f\"Total: ${total:, .2f}')\n",
    "    \n",
    "def main():\n",
    "    cart = []\n",
    "    done = False\n",
    "    while not done:\n",
    "        clear_output()\n",
    "        show_instructions()\n",
    "        show_items(cart)\n",
    "        \n",
    "        ask = input('What would you like to do? ').lower()\n",
    "        if ask == 'add':\n",
    "            item_name = input(\"What would you like to add? \")\n",
    "            item_price = input(\"How much does this item cost? \")\n",
    "            cart_item = {\n",
    "                'name': item_name,\n",
    "                'price': item_price\n",
    "            }\n",
    "            add_to_cart(cart, cart_item)\n",
    "        if ask == 'remove':\n",
    "          item_to_remove = input('What item would you like to remove? ')\n",
    "          for item in cart:\n",
    "              if item['name'] == item_to_remove:\n",
    "              remove_item(cart, item_to_remove)\n",
    "        if ask == 'clear':\n",
    "            pass\n",
    "        if ask == 'show':\n",
    "            pass\n",
    "        if ask == 'quit':\n",
    "            confirmed = False\n",
    "            \n",
    "            while not confirmed:\n",
    "                clear_output()\n",
    "                confirm = input('Are you sure? Y/N? ').lower()\n",
    "                if confirm == 'y':\n",
    "                    done = True\n",
    "                    cofirmed = True\n",
    "                elif confirm == 'n':\n",
    "                    break\n",
    "                else:\n",
    "                    print('That operation is invalid. Try again.')\n",
    "                    input('Press ENTER to continue')\n",
    "main()           \n",
    "\n",
    "\n",
    "\n",
    "#=====================\n",
    "#You have no items in your cart.\n",
    "#=====================\n",
    "#Total: $0.00\n",
    "#Have a good day! Goodbye!"
   ]
  },
  {
   "cell_type": "markdown",
   "metadata": {},
   "source": [
    "#1) Build a Shopping Cart\n",
    "#Should have the following capabilities:\n",
    "\n",
    "#1) Takes in input\n",
    "#2) Stores user input into a list\n",
    "#3) User can add or delete items\n",
    "#4) User can see current shopping list\n",
    "#5) Loops until user 'quits'\n",
    "#6) Upon quiting the program, print out all items in the user's list"
   ]
  },
  {
   "cell_type": "code",
   "execution_count": 2,
   "metadata": {},
   "outputs": [],
   "source": [
    "%run ./calculations.ipynb"
   ]
  },
  {
   "cell_type": "code",
   "execution_count": 12,
   "metadata": {},
   "outputs": [
    {
     "name": "stdout",
     "output_type": "stream",
     "text": [
      "What is your room width?4\n",
      "What is your room length?5\n"
     ]
    },
    {
     "data": {
      "text/plain": [
       "20.0"
      ]
     },
     "execution_count": 12,
     "metadata": {},
     "output_type": "execute_result"
    }
   ],
   "source": [
    "width = float(input('What is your room width?'))\n",
    "length = float(input('What is your room length?'))\n",
    "               \n",
    "findsqfootage(width, length)"
   ]
  },
  {
   "cell_type": "code",
   "execution_count": 13,
   "metadata": {},
   "outputs": [
    {
     "name": "stdout",
     "output_type": "stream",
     "text": [
      "What is your circle radius?5\n"
     ]
    },
    {
     "data": {
      "text/plain": [
       "31.4159265"
      ]
     },
     "execution_count": 13,
     "metadata": {},
     "output_type": "execute_result"
    }
   ],
   "source": [
    "radius = float(input('What is your circle radius?'))\n",
    "findcircumference(radius)"
   ]
  },
  {
   "cell_type": "code",
   "execution_count": 3,
   "metadata": {},
   "outputs": [
    {
     "name": "stdout",
     "output_type": "stream",
     "text": [
      "What is your circle radius?5\n"
     ]
    },
    {
     "data": {
      "text/plain": [
       "31.41592653589793"
      ]
     },
     "execution_count": 3,
     "metadata": {},
     "output_type": "execute_result"
    }
   ],
   "source": [
    "radius = float(input('What is your circle radius?'))\n",
    "findpicircumference(radius)"
   ]
  },
  {
   "cell_type": "markdown",
   "metadata": {},
   "source": [
    "2) Create a Module in Visual Studio Code and Import It\n",
    "Module should have the following capabilities:\n",
    "\n",
    "1) Has a function to calculate the square footage of a room\n",
    "2) Has a function to calculate the circumference of a circle\n",
    "\n",
    "Program in Jupyter Notebook should take in user input and use imported functions to calculate a circle's circumference or a houses square footage\n",
    "\n",
    "**Note: When using functions in Python, arguments are passed in by reference, NOT value."
   ]
  }
 ],
 "metadata": {
  "kernelspec": {
   "display_name": "Python 3",
   "language": "python",
   "name": "python3"
  },
  "language_info": {
   "codemirror_mode": {
    "name": "ipython",
    "version": 3
   },
   "file_extension": ".py",
   "mimetype": "text/x-python",
   "name": "python",
   "nbconvert_exporter": "python",
   "pygments_lexer": "ipython3",
   "version": "3.8.3"
  }
 },
 "nbformat": 4,
 "nbformat_minor": 4
}
